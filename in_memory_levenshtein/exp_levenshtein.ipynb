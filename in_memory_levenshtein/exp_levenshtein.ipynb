{
 "cells": [
  {
   "cell_type": "code",
   "execution_count": 2,
   "metadata": {},
   "outputs": [],
   "source": [
    "import pandas as pd\n",
    "import time\n",
    "\n"
   ]
  },
  {
   "cell_type": "code",
   "execution_count": 3,
   "metadata": {},
   "outputs": [
    {
     "name": "stdout",
     "output_type": "stream",
     "text": [
      "Elapsed time: 18.3626sec.\n"
     ]
    }
   ],
   "source": [
    "\n",
    "# Full\n",
    "csv_path = \"./info_gbiz/Kihonjoho_UTF-8.csv\"\n",
    "\n",
    "tic = time.perf_counter()\n",
    "csv_content = pd.read_csv(csv_path)\n",
    "toc = time.perf_counter()\n",
    "print(f\"Elapsed time: {toc - tic:0.4f}sec.\")"
   ]
  },
  {
   "cell_type": "code",
   "execution_count": 4,
   "metadata": {},
   "outputs": [
    {
     "name": "stdout",
     "output_type": "stream",
     "text": [
      "<class 'pandas.core.frame.DataFrame'>\n",
      "RangeIndex: 5167760 entries, 0 to 5167759\n",
      "Data columns (total 21 columns):\n",
      " #   Column       Dtype  \n",
      "---  ------       -----  \n",
      " 0   法人番号         int64  \n",
      " 1   法人名          object \n",
      " 2   法人名ふりがな      object \n",
      " 3   法人名英語        object \n",
      " 4   郵便番号         float64\n",
      " 5   本社所在地        object \n",
      " 6   ステータス        object \n",
      " 7   登記記録の閉鎖等年月日  object \n",
      " 8   登記記録の閉鎖等の事由  float64\n",
      " 9   法人代表者名       object \n",
      " 10  法人代表者役職      object \n",
      " 11  資本金          float64\n",
      " 12  従業員数         float64\n",
      " 13  企業規模詳細(男性)   float64\n",
      " 14  企業規模詳細(女性)   float64\n",
      " 15  営業品目リスト      object \n",
      " 16  事業概要         object \n",
      " 17  企業ホームページ     object \n",
      " 18  設立年月日        object \n",
      " 19  創業年          float64\n",
      " 20  最終更新日        object \n",
      "dtypes: float64(7), int64(1), object(13)\n",
      "memory usage: 828.0+ MB\n",
      "None\n"
     ]
    },
    {
     "data": {
      "text/plain": [
       "Index(['法人番号', '法人名', '法人名ふりがな', '法人名英語', '郵便番号', '本社所在地', 'ステータス',\n",
       "       '登記記録の閉鎖等年月日', '登記記録の閉鎖等の事由', '法人代表者名', '法人代表者役職', '資本金', '従業員数',\n",
       "       '企業規模詳細(男性)', '企業規模詳細(女性)', '営業品目リスト', '事業概要', '企業ホームページ', '設立年月日',\n",
       "       '創業年', '最終更新日'],\n",
       "      dtype='object')"
      ]
     },
     "execution_count": 4,
     "metadata": {},
     "output_type": "execute_result"
    }
   ],
   "source": [
    "print(csv_content.info())\n",
    "csv_content.columns"
   ]
  },
  {
   "cell_type": "code",
   "execution_count": 5,
   "metadata": {},
   "outputs": [
    {
     "data": {
      "text/plain": [
       "Index(['法人番号', '法人名', '法人名ふりがな', '法人名英語', '郵便番号', '本社所在地', 'ステータス',\n",
       "       '登記記録の閉鎖等年月日', '最終更新日'],\n",
       "      dtype='object')"
      ]
     },
     "execution_count": 5,
     "metadata": {},
     "output_type": "execute_result"
    }
   ],
   "source": [
    "# possible useful fields\n",
    "col_filter = [\"法人番号\",\"法人名\",\"法人名ふりがな\",\"法人名英語\",\"郵便番号\",\"本社所在地\",\"ステータス\",\"登記記録の閉鎖等年月日\",\"最終更新日\"]\n",
    "csv_content = csv_content[col_filter]\n",
    "csv_content.columns"
   ]
  },
  {
   "cell_type": "code",
   "execution_count": 6,
   "metadata": {},
   "outputs": [
    {
     "data": {
      "text/html": [
       "<div>\n",
       "<style scoped>\n",
       "    .dataframe tbody tr th:only-of-type {\n",
       "        vertical-align: middle;\n",
       "    }\n",
       "\n",
       "    .dataframe tbody tr th {\n",
       "        vertical-align: top;\n",
       "    }\n",
       "\n",
       "    .dataframe thead th {\n",
       "        text-align: right;\n",
       "    }\n",
       "</style>\n",
       "<table border=\"1\" class=\"dataframe\">\n",
       "  <thead>\n",
       "    <tr style=\"text-align: right;\">\n",
       "      <th></th>\n",
       "      <th>法人番号</th>\n",
       "      <th>法人名</th>\n",
       "      <th>法人名ふりがな</th>\n",
       "      <th>法人名英語</th>\n",
       "      <th>郵便番号</th>\n",
       "      <th>本社所在地</th>\n",
       "      <th>ステータス</th>\n",
       "      <th>登記記録の閉鎖等年月日</th>\n",
       "      <th>最終更新日</th>\n",
       "    </tr>\n",
       "  </thead>\n",
       "  <tbody>\n",
       "    <tr>\n",
       "      <th>0</th>\n",
       "      <td>1000012160153</td>\n",
       "      <td>釧路検察審査会</td>\n",
       "      <td>クシロケンサツシンサカイ</td>\n",
       "      <td>Kushiro Committee for the Inquest of Prosecution</td>\n",
       "      <td>850824.0</td>\n",
       "      <td>北海道釧路市柏木町４－７</td>\n",
       "      <td>NaN</td>\n",
       "      <td>NaN</td>\n",
       "      <td>2018-04-02T00:00:00+09:00</td>\n",
       "    </tr>\n",
       "    <tr>\n",
       "      <th>1</th>\n",
       "      <td>1000013050386</td>\n",
       "      <td>伊達簡易裁判所</td>\n",
       "      <td>ダテカンイサイバンショ</td>\n",
       "      <td>Date Summary Court</td>\n",
       "      <td>520021.0</td>\n",
       "      <td>北海道伊達市末永町４７－１０</td>\n",
       "      <td>NaN</td>\n",
       "      <td>NaN</td>\n",
       "      <td>2018-04-02T00:00:00+09:00</td>\n",
       "    </tr>\n",
       "  </tbody>\n",
       "</table>\n",
       "</div>"
      ],
      "text/plain": [
       "            法人番号      法人名       法人名ふりがな  \\\n",
       "0  1000012160153  釧路検察審査会  クシロケンサツシンサカイ   \n",
       "1  1000013050386  伊達簡易裁判所   ダテカンイサイバンショ   \n",
       "\n",
       "                                              法人名英語      郵便番号           本社所在地  \\\n",
       "0  Kushiro Committee for the Inquest of Prosecution  850824.0    北海道釧路市柏木町４－７   \n",
       "1                                Date Summary Court  520021.0  北海道伊達市末永町４７－１０   \n",
       "\n",
       "  ステータス 登記記録の閉鎖等年月日                      最終更新日  \n",
       "0   NaN         NaN  2018-04-02T00:00:00+09:00  \n",
       "1   NaN         NaN  2018-04-02T00:00:00+09:00  "
      ]
     },
     "execution_count": 6,
     "metadata": {},
     "output_type": "execute_result"
    }
   ],
   "source": [
    "csv_content.head(2)"
   ]
  },
  {
   "cell_type": "code",
   "execution_count": 7,
   "metadata": {},
   "outputs": [
    {
     "name": "stdout",
     "output_type": "stream",
     "text": [
      "[nan '閉鎖']\n"
     ]
    },
    {
     "data": {
      "text/html": [
       "<div>\n",
       "<style scoped>\n",
       "    .dataframe tbody tr th:only-of-type {\n",
       "        vertical-align: middle;\n",
       "    }\n",
       "\n",
       "    .dataframe tbody tr th {\n",
       "        vertical-align: top;\n",
       "    }\n",
       "\n",
       "    .dataframe thead th {\n",
       "        text-align: right;\n",
       "    }\n",
       "</style>\n",
       "<table border=\"1\" class=\"dataframe\">\n",
       "  <thead>\n",
       "    <tr style=\"text-align: right;\">\n",
       "      <th></th>\n",
       "      <th>法人番号</th>\n",
       "      <th>法人名</th>\n",
       "      <th>法人名ふりがな</th>\n",
       "      <th>法人名英語</th>\n",
       "      <th>郵便番号</th>\n",
       "      <th>本社所在地</th>\n",
       "      <th>ステータス</th>\n",
       "      <th>登記記録の閉鎖等年月日</th>\n",
       "      <th>最終更新日</th>\n",
       "    </tr>\n",
       "  </thead>\n",
       "  <tbody>\n",
       "    <tr>\n",
       "      <th>54</th>\n",
       "      <td>1010401092072</td>\n",
       "      <td>株式会社ワンエイトクリエーション</td>\n",
       "      <td>NaN</td>\n",
       "      <td>NaN</td>\n",
       "      <td>600063.0</td>\n",
       "      <td>北海道札幌市中央区南三条西８丁目１番１号ガルムリマイン２階２０１号室</td>\n",
       "      <td>閉鎖</td>\n",
       "      <td>2017-12-20</td>\n",
       "      <td>2017-12-21T00:00:00+09:00</td>\n",
       "    </tr>\n",
       "    <tr>\n",
       "      <th>59</th>\n",
       "      <td>1010401116368</td>\n",
       "      <td>株式会社アール・ピー・エフ</td>\n",
       "      <td>NaN</td>\n",
       "      <td>NaN</td>\n",
       "      <td>600063.0</td>\n",
       "      <td>北海道札幌市中央区南三条西１丁目１番地１</td>\n",
       "      <td>閉鎖</td>\n",
       "      <td>2019-04-17</td>\n",
       "      <td>2019-04-19T00:00:00+09:00</td>\n",
       "    </tr>\n",
       "    <tr>\n",
       "      <th>153</th>\n",
       "      <td>1430001000252</td>\n",
       "      <td>アーバン鑑定株式会社</td>\n",
       "      <td>NaN</td>\n",
       "      <td>NaN</td>\n",
       "      <td>640825.0</td>\n",
       "      <td>北海道札幌市中央区北五条西２９丁目２番２８号</td>\n",
       "      <td>閉鎖</td>\n",
       "      <td>2017-09-19</td>\n",
       "      <td>2017-09-28T00:00:00+09:00</td>\n",
       "    </tr>\n",
       "    <tr>\n",
       "      <th>158</th>\n",
       "      <td>1430001000343</td>\n",
       "      <td>亜光測量株式会社</td>\n",
       "      <td>NaN</td>\n",
       "      <td>NaN</td>\n",
       "      <td>630005.0</td>\n",
       "      <td>北海道札幌市西区山の手五条９丁目３番２５号</td>\n",
       "      <td>閉鎖</td>\n",
       "      <td>2019-01-17</td>\n",
       "      <td>2019-01-18T00:00:00+09:00</td>\n",
       "    </tr>\n",
       "    <tr>\n",
       "      <th>168</th>\n",
       "      <td>1430001000509</td>\n",
       "      <td>株式会社アスカ一級建築士事務所</td>\n",
       "      <td>NaN</td>\n",
       "      <td>NaN</td>\n",
       "      <td>630002.0</td>\n",
       "      <td>北海道札幌市西区山の手二条４丁目２番２０号</td>\n",
       "      <td>閉鎖</td>\n",
       "      <td>2018-01-11</td>\n",
       "      <td>2018-01-17T00:00:00+09:00</td>\n",
       "    </tr>\n",
       "  </tbody>\n",
       "</table>\n",
       "</div>"
      ],
      "text/plain": [
       "              法人番号               法人名 法人名ふりがな 法人名英語      郵便番号  \\\n",
       "54   1010401092072  株式会社ワンエイトクリエーション     NaN   NaN  600063.0   \n",
       "59   1010401116368     株式会社アール・ピー・エフ     NaN   NaN  600063.0   \n",
       "153  1430001000252        アーバン鑑定株式会社     NaN   NaN  640825.0   \n",
       "158  1430001000343          亜光測量株式会社     NaN   NaN  630005.0   \n",
       "168  1430001000509   株式会社アスカ一級建築士事務所     NaN   NaN  630002.0   \n",
       "\n",
       "                                  本社所在地 ステータス 登記記録の閉鎖等年月日  \\\n",
       "54   北海道札幌市中央区南三条西８丁目１番１号ガルムリマイン２階２０１号室    閉鎖  2017-12-20   \n",
       "59                 北海道札幌市中央区南三条西１丁目１番地１    閉鎖  2019-04-17   \n",
       "153              北海道札幌市中央区北五条西２９丁目２番２８号    閉鎖  2017-09-19   \n",
       "158               北海道札幌市西区山の手五条９丁目３番２５号    閉鎖  2019-01-17   \n",
       "168               北海道札幌市西区山の手二条４丁目２番２０号    閉鎖  2018-01-11   \n",
       "\n",
       "                         最終更新日  \n",
       "54   2017-12-21T00:00:00+09:00  \n",
       "59   2019-04-19T00:00:00+09:00  \n",
       "153  2017-09-28T00:00:00+09:00  \n",
       "158  2019-01-18T00:00:00+09:00  \n",
       "168  2018-01-17T00:00:00+09:00  "
      ]
     },
     "execution_count": 7,
     "metadata": {},
     "output_type": "execute_result"
    }
   ],
   "source": [
    "# what is status column?\n",
    "print(csv_content[\"ステータス\"].unique())\n",
    "csv_content[csv_content[\"ステータス\"].notna()].head(5)"
   ]
  },
  {
   "cell_type": "code",
   "execution_count": 8,
   "metadata": {},
   "outputs": [],
   "source": [
    "# filter\n",
    "csv_content[\"法人名\"].dropna()\n",
    "csv_content[\"法人名\"] = csv_content[\"法人名\"].astype(str)\n",
    "o_name_l = csv_content[\"法人名\"].to_list()"
   ]
  },
  {
   "cell_type": "code",
   "execution_count": null,
   "metadata": {},
   "outputs": [],
   "source": [
    "# try exact search on pandas\n",
    "target_str = \"株式会社三井住友銀行\"\n",
    "# target_str = \"株式会社ヤマト\"\n",
    "csv_content.loc[csv_content['法人名'] == target_str]"
   ]
  },
  {
   "cell_type": "code",
   "execution_count": 10,
   "metadata": {},
   "outputs": [
    {
     "data": {
      "text/plain": [
       "5167760"
      ]
     },
     "execution_count": 10,
     "metadata": {},
     "output_type": "execute_result"
    }
   ],
   "source": [
    "# how many rows\n",
    "len(o_name_l)"
   ]
  },
  {
   "cell_type": "code",
   "execution_count": 11,
   "metadata": {},
   "outputs": [],
   "source": [
    "import Levenshtein as leven\n",
    "# func to compare\n",
    "\n",
    "\n",
    "def compare(src: str):\n",
    "    # ratio, string\n",
    "    highest_match = [0, \"\"]\n",
    "    \n",
    "    for o_name in o_name_l:\n",
    "        sim = leven.ratio(src, o_name)\n",
    "        if sim > highest_match[0]:\n",
    "            highest_match = [sim, o_name]\n",
    "    return highest_match\n",
    "\n"
   ]
  },
  {
   "cell_type": "code",
   "execution_count": 16,
   "metadata": {},
   "outputs": [
    {
     "name": "stdout",
     "output_type": "stream",
     "text": [
      "0.0000002311\n",
      " finished, total time elapsed: 1.1941s, average time: 1.1940679550s\n"
     ]
    }
   ],
   "source": [
    "from time import time\n",
    "start = time()\n",
    "count = 1\n",
    "\n",
    "for i in range(count):\n",
    "    # matched = compare(\"伊達\")\n",
    "    # matched = compare(\"三井\")\n",
    "    matched = compare(\"ヤマト\")\n",
    "\n",
    "    # matched = compare(\"株式会社三井住友銀行\")\n",
    "    # matched = compare(\"株式会社ヤマト\")\n",
    "\n",
    "end = time()\n",
    "print( f\"{(end - start)/len(o_name_l):0.10f}\")\n",
    "print(f\" finished, total time elapsed: {end - start:0.4f}s, average time: {(end - start)/count:0.10f}s\")"
   ]
  },
  {
   "cell_type": "code",
   "execution_count": 17,
   "metadata": {},
   "outputs": [
    {
     "data": {
      "text/plain": [
       "[0.6, '有限会社ヤマト']"
      ]
     },
     "execution_count": 17,
     "metadata": {},
     "output_type": "execute_result"
    }
   ],
   "source": [
    "matched"
   ]
  }
 ],
 "metadata": {
  "interpreter": {
   "hash": "393116825b527c52ca755ccdffb668b0a87cb984720fe262fa43097a59c8b332"
  },
  "kernelspec": {
   "display_name": "Python 3.9.7 (conda)",
   "language": "python",
   "name": "python3"
  },
  "language_info": {
   "codemirror_mode": {
    "name": "ipython",
    "version": 3
   },
   "file_extension": ".py",
   "mimetype": "text/x-python",
   "name": "python",
   "nbconvert_exporter": "python",
   "pygments_lexer": "ipython3",
   "version": "3.9.7"
  },
  "orig_nbformat": 4
 },
 "nbformat": 4,
 "nbformat_minor": 2
}
