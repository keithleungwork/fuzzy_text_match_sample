{
 "cells": [
  {
   "attachments": {},
   "cell_type": "markdown",
   "metadata": {},
   "source": [
    "# Indexing CSV dataset into Opensearch db\n",
    "Before starting any query on OpenSearch Database, we need to \"insert\" data into the DB.\n",
    "For OpenSearch DB, this is called \"Indexing\".\n",
    "\n",
    "In this notebook, we will index a CSV dataset into DB and try out some fuzzy query.\n",
    "\n",
    "> Note: we will use a public Japanese company name as the data source. You can download [here](https://info.gbiz.go.jp/hojin/DownloadTop).\n"
   ]
  },
  {
   "attachments": {},
   "cell_type": "markdown",
   "metadata": {},
   "source": [
    "----\n",
    "## Startup OpenSearch\n",
    "\n",
    "Run below command to start the docker-compose\n",
    "```sh\n",
    "docker-compose up\n",
    "```\n",
    "\n",
    "After the startup finished, open the URL \"http://localhost:5601/\" to access the dashboard.\n",
    "\n",
    "Then, follow the [API](https://opensearch.org/docs/1.2/opensearch/rest-api/index-apis/create-index/) to create index.\n"
   ]
  },
  {
   "attachments": {},
   "cell_type": "markdown",
   "metadata": {},
   "source": [
    "\n",
    "-----\n",
    "## Preparation"
   ]
  },
  {
   "attachments": {},
   "cell_type": "markdown",
   "metadata": {},
   "source": [
    "Let's start by installing necessary packages."
   ]
  },
  {
   "cell_type": "code",
   "execution_count": 24,
   "metadata": {},
   "outputs": [],
   "source": [
    "!pip install opensearch-py numpy pandas -q"
   ]
  },
  {
   "cell_type": "code",
   "execution_count": 25,
   "metadata": {},
   "outputs": [],
   "source": [
    "from opensearchpy import OpenSearch, helpers\n",
    "import numpy as np\n",
    "import pandas as pd\n",
    "import os\n",
    "import unicodedata\n",
    "import time\n",
    "from pprint import pprint as pp"
   ]
  },
  {
   "attachments": {},
   "cell_type": "markdown",
   "metadata": {},
   "source": [
    "Let's define some paths:"
   ]
  },
  {
   "cell_type": "code",
   "execution_count": 48,
   "metadata": {},
   "outputs": [],
   "source": [
    "\n",
    "# Point to the csv you download\n",
    "csv_path = \"./tmp/info_gbiz/Kihonjoho_UTF-8.csv\"\n",
    "\n",
    "# You can think like the Database name\n",
    "index_name = \"alias_concat_db_20230405\""
   ]
  },
  {
   "attachments": {},
   "cell_type": "markdown",
   "metadata": {},
   "source": [
    "Init a opensearch client."
   ]
  },
  {
   "cell_type": "code",
   "execution_count": 27,
   "metadata": {},
   "outputs": [],
   "source": [
    "host = 'localhost'\n",
    "port = 9200\n",
    "auth = ('admin', 'admin') # For testing only. Don't store credentials in code.\n",
    "# ca_certs_path = '/full/path/to/root-ca.pem' # Provide a CA bundle if you use intermediate CAs with your root CA.\n",
    "\n",
    "# Optional client certificates if you don't want to use HTTP basic authentication.\n",
    "# client_cert_path = '/full/path/to/client.pem'\n",
    "# client_key_path = '/full/path/to/client-key.pem'\n",
    "\n",
    "# Create the client with SSL/TLS enabled, but hostname verification disabled.\n",
    "client = OpenSearch(\n",
    "    hosts = [{'host': host, 'port': port}],\n",
    "    http_compress = True, # enables gzip compression for request bodies\n",
    "    http_auth = auth,\n",
    "    # client_cert = client_cert_path,\n",
    "    # client_key = client_key_path,\n",
    "    use_ssl = False,\n",
    "    # verify_certs = True,\n",
    "    ssl_assert_hostname = False,\n",
    "    ssl_show_warn = False,\n",
    "    # ca_certs = ca_certs_path\n",
    ")\n"
   ]
  },
  {
   "attachments": {},
   "cell_type": "markdown",
   "metadata": {},
   "source": [
    "---- \n",
    "## Clean the input\n",
    "\n",
    "The raw data sometimes included lots of special characters. We need to normalize and clean the unwanted words.\n"
   ]
  },
  {
   "cell_type": "code",
   "execution_count": 28,
   "metadata": {},
   "outputs": [
    {
     "data": {
      "text/plain": [
       "'SMiLE Niseko Language School合同会社'"
      ]
     },
     "execution_count": 28,
     "metadata": {},
     "output_type": "execute_result"
    }
   ],
   "source": [
    "def remove_accented_chars(text):\n",
    "#     ```\n",
    "#     (NFKD) will apply the compatibility decomposition, i.e. \n",
    "#     replace all compatibility characters with their equivalents. \n",
    "#     ```\n",
    "    text = unicodedata.normalize('NFKC', text)#.encode('ascii', 'ignore').decode('utf-8', 'ignore')\n",
    "    return text\n",
    "\n",
    "# For example\n",
    "remove_accented_chars('ＳＭｉＬＥ\\u3000Ｎｉｓｅｋｏ\\u3000Ｌａｎｇｕａｇｅ\\u3000Ｓｃｈｏｏｌ合同会社')"
   ]
  },
  {
   "attachments": {},
   "cell_type": "markdown",
   "metadata": {},
   "source": [
    "Load the csv data via Pandas"
   ]
  },
  {
   "cell_type": "code",
   "execution_count": 29,
   "metadata": {},
   "outputs": [
    {
     "data": {
      "text/html": [
       "<div>\n",
       "<style scoped>\n",
       "    .dataframe tbody tr th:only-of-type {\n",
       "        vertical-align: middle;\n",
       "    }\n",
       "\n",
       "    .dataframe tbody tr th {\n",
       "        vertical-align: top;\n",
       "    }\n",
       "\n",
       "    .dataframe thead th {\n",
       "        text-align: right;\n",
       "    }\n",
       "</style>\n",
       "<table border=\"1\" class=\"dataframe\">\n",
       "  <thead>\n",
       "    <tr style=\"text-align: right;\">\n",
       "      <th></th>\n",
       "      <th>法人名</th>\n",
       "      <th>郵便番号</th>\n",
       "      <th>本社所在地</th>\n",
       "    </tr>\n",
       "  </thead>\n",
       "  <tbody>\n",
       "    <tr>\n",
       "      <th>1940822</th>\n",
       "      <td>今村撚糸有限会社</td>\n",
       "      <td>9102334</td>\n",
       "      <td>福井県福井市大宮町第１４号４８番地</td>\n",
       "    </tr>\n",
       "    <tr>\n",
       "      <th>4338348</th>\n",
       "      <td>有限会社中部ゴム商会</td>\n",
       "      <td>4600022</td>\n",
       "      <td>愛知県名古屋市中区金山３丁目１３番１６号</td>\n",
       "    </tr>\n",
       "    <tr>\n",
       "      <th>2405558</th>\n",
       "      <td>有限会社芦田染工場</td>\n",
       "      <td>6040044</td>\n",
       "      <td>京都府京都市中京区小川通御池上る下古城町３８８番地</td>\n",
       "    </tr>\n",
       "    <tr>\n",
       "      <th>4643630</th>\n",
       "      <td>有限会社伸栄製茶</td>\n",
       "      <td>5121115</td>\n",
       "      <td>三重県四日市市堂ケ山町５０３番地の１</td>\n",
       "    </tr>\n",
       "    <tr>\n",
       "      <th>1136886</th>\n",
       "      <td>株式会社ルーク</td>\n",
       "      <td>1600023</td>\n",
       "      <td>東京都新宿区西新宿８丁目２番２１号</td>\n",
       "    </tr>\n",
       "  </tbody>\n",
       "</table>\n",
       "</div>"
      ],
      "text/plain": [
       "                法人名     郵便番号                      本社所在地\n",
       "1940822    今村撚糸有限会社  9102334          福井県福井市大宮町第１４号４８番地\n",
       "4338348  有限会社中部ゴム商会  4600022       愛知県名古屋市中区金山３丁目１３番１６号\n",
       "2405558   有限会社芦田染工場  6040044  京都府京都市中京区小川通御池上る下古城町３８８番地\n",
       "4643630    有限会社伸栄製茶  5121115         三重県四日市市堂ケ山町５０３番地の１\n",
       "1136886     株式会社ルーク  1600023          東京都新宿区西新宿８丁目２番２１号"
      ]
     },
     "execution_count": 29,
     "metadata": {},
     "output_type": "execute_result"
    }
   ],
   "source": [
    "df = pd.read_csv(csv_path, dtype=str)\n",
    "# we only need these fields:\n",
    "df = df[[\"法人名\", \"郵便番号\", \"本社所在地\"]]\n",
    "df.sample(5)"
   ]
  },
  {
   "attachments": {},
   "cell_type": "markdown",
   "metadata": {},
   "source": [
    "Some preprocessing to clean the data"
   ]
  },
  {
   "cell_type": "code",
   "execution_count": 30,
   "metadata": {},
   "outputs": [
    {
     "data": {
      "text/html": [
       "<div>\n",
       "<style scoped>\n",
       "    .dataframe tbody tr th:only-of-type {\n",
       "        vertical-align: middle;\n",
       "    }\n",
       "\n",
       "    .dataframe tbody tr th {\n",
       "        vertical-align: top;\n",
       "    }\n",
       "\n",
       "    .dataframe thead th {\n",
       "        text-align: right;\n",
       "    }\n",
       "</style>\n",
       "<table border=\"1\" class=\"dataframe\">\n",
       "  <thead>\n",
       "    <tr style=\"text-align: right;\">\n",
       "      <th></th>\n",
       "      <th>法人名</th>\n",
       "      <th>郵便番号</th>\n",
       "      <th>本社所在地</th>\n",
       "    </tr>\n",
       "  </thead>\n",
       "  <tbody>\n",
       "    <tr>\n",
       "      <th>3229352</th>\n",
       "      <td>有限会社アド・スタッフ</td>\n",
       "      <td>822-0022</td>\n",
       "      <td>福岡県直方市知古2丁目6番6号</td>\n",
       "    </tr>\n",
       "    <tr>\n",
       "      <th>3371695</th>\n",
       "      <td>有限会社エヌ・エム・アシスト</td>\n",
       "      <td>862-0913</td>\n",
       "      <td>熊本県熊本市東区尾ノ上2丁目24番10号</td>\n",
       "    </tr>\n",
       "    <tr>\n",
       "      <th>1710181</th>\n",
       "      <td>DDS・ジャパン株式会社</td>\n",
       "      <td>227-0063</td>\n",
       "      <td>神奈川県横浜市青葉区榎が丘47番地34</td>\n",
       "    </tr>\n",
       "    <tr>\n",
       "      <th>676561</th>\n",
       "      <td>株式会社小野建設</td>\n",
       "      <td>353-0002</td>\n",
       "      <td>埼玉県志木市中宗岡3丁目3番5号</td>\n",
       "    </tr>\n",
       "    <tr>\n",
       "      <th>5123892</th>\n",
       "      <td>株式会社藤﨑プレス工業</td>\n",
       "      <td>890-0051</td>\n",
       "      <td>鹿児島県鹿児島市高麗町22番12号</td>\n",
       "    </tr>\n",
       "  </tbody>\n",
       "</table>\n",
       "</div>"
      ],
      "text/plain": [
       "                    法人名      郵便番号                 本社所在地\n",
       "3229352     有限会社アド・スタッフ  822-0022       福岡県直方市知古2丁目6番6号\n",
       "3371695  有限会社エヌ・エム・アシスト  862-0913  熊本県熊本市東区尾ノ上2丁目24番10号\n",
       "1710181    DDS・ジャパン株式会社  227-0063   神奈川県横浜市青葉区榎が丘47番地34\n",
       "676561         株式会社小野建設  353-0002      埼玉県志木市中宗岡3丁目3番5号\n",
       "5123892     株式会社藤﨑プレス工業  890-0051     鹿児島県鹿児島市高麗町22番12号"
      ]
     },
     "execution_count": 30,
     "metadata": {},
     "output_type": "execute_result"
    }
   ],
   "source": [
    "# fill Na with empty string\n",
    "df = df.fillna(\"\")\n",
    "df = df.applymap(remove_accented_chars)\n",
    "# For 郵便番号, we want them in this format xxx-xxxx, if it is 7-digit\n",
    "def add_hyphen(postal_code):\n",
    "    if len(postal_code) == 7:\n",
    "        return postal_code[:3] + '-' + postal_code[3:]\n",
    "    else:\n",
    "        return postal_code\n",
    "df[\"郵便番号\"] = df[\"郵便番号\"].apply(add_hyphen)\n",
    "df.sample(5)"
   ]
  },
  {
   "attachments": {},
   "cell_type": "markdown",
   "metadata": {},
   "source": [
    "Additionally, we want an extra column to store the concatenated name + postal code + address"
   ]
  },
  {
   "cell_type": "code",
   "execution_count": 31,
   "metadata": {},
   "outputs": [
    {
     "data": {
      "text/html": [
       "<div>\n",
       "<style scoped>\n",
       "    .dataframe tbody tr th:only-of-type {\n",
       "        vertical-align: middle;\n",
       "    }\n",
       "\n",
       "    .dataframe tbody tr th {\n",
       "        vertical-align: top;\n",
       "    }\n",
       "\n",
       "    .dataframe thead th {\n",
       "        text-align: right;\n",
       "    }\n",
       "</style>\n",
       "<table border=\"1\" class=\"dataframe\">\n",
       "  <thead>\n",
       "    <tr style=\"text-align: right;\">\n",
       "      <th></th>\n",
       "      <th>法人名</th>\n",
       "      <th>郵便番号</th>\n",
       "      <th>本社所在地</th>\n",
       "      <th>concat_name</th>\n",
       "    </tr>\n",
       "  </thead>\n",
       "  <tbody>\n",
       "    <tr>\n",
       "      <th>3223445</th>\n",
       "      <td>有限会社クローバー福岡</td>\n",
       "      <td>811-2201</td>\n",
       "      <td>福岡県糟屋郡志免町桜丘4丁目21番7号</td>\n",
       "      <td>有限会社クローバー福岡 811-2201 福岡県糟屋郡志免町桜丘4丁目21番7号</td>\n",
       "    </tr>\n",
       "    <tr>\n",
       "      <th>2231362</th>\n",
       "      <td>合同会社尾張大文</td>\n",
       "      <td>491-0861</td>\n",
       "      <td>愛知県一宮市泉2丁目13番地9号</td>\n",
       "      <td>合同会社尾張大文 491-0861 愛知県一宮市泉2丁目13番地9号</td>\n",
       "    </tr>\n",
       "    <tr>\n",
       "      <th>2126015</th>\n",
       "      <td>特定非営利活動法人みんなのおしごと</td>\n",
       "      <td>432-8061</td>\n",
       "      <td>静岡県浜松市西区入野町4924番地の10佐鳴台パークホームズ205号</td>\n",
       "      <td>特定非営利活動法人みんなのおしごと 432-8061 静岡県浜松市西区入野町4924番地の1...</td>\n",
       "    </tr>\n",
       "    <tr>\n",
       "      <th>1786658</th>\n",
       "      <td>相鉄ホテル株式会社</td>\n",
       "      <td>220-0004</td>\n",
       "      <td>神奈川県横浜市西区北幸1丁目3番23号</td>\n",
       "      <td>相鉄ホテル株式会社 220-0004 神奈川県横浜市西区北幸1丁目3番23号</td>\n",
       "    </tr>\n",
       "    <tr>\n",
       "      <th>50168</th>\n",
       "      <td>株式会社ハウス工房コーワ</td>\n",
       "      <td>080-0021</td>\n",
       "      <td>北海道帯広市西十一条南17丁目4番地7</td>\n",
       "      <td>株式会社ハウス工房コーワ 080-0021 北海道帯広市西十一条南17丁目4番地7</td>\n",
       "    </tr>\n",
       "  </tbody>\n",
       "</table>\n",
       "</div>"
      ],
      "text/plain": [
       "                       法人名      郵便番号                               本社所在地   \n",
       "3223445        有限会社クローバー福岡  811-2201                 福岡県糟屋郡志免町桜丘4丁目21番7号  \\\n",
       "2231362           合同会社尾張大文  491-0861                    愛知県一宮市泉2丁目13番地9号   \n",
       "2126015  特定非営利活動法人みんなのおしごと  432-8061  静岡県浜松市西区入野町4924番地の10佐鳴台パークホームズ205号   \n",
       "1786658          相鉄ホテル株式会社  220-0004                 神奈川県横浜市西区北幸1丁目3番23号   \n",
       "50168         株式会社ハウス工房コーワ  080-0021                 北海道帯広市西十一条南17丁目4番地7   \n",
       "\n",
       "                                               concat_name  \n",
       "3223445           有限会社クローバー福岡 811-2201 福岡県糟屋郡志免町桜丘4丁目21番7号  \n",
       "2231362                 合同会社尾張大文 491-0861 愛知県一宮市泉2丁目13番地9号  \n",
       "2126015  特定非営利活動法人みんなのおしごと 432-8061 静岡県浜松市西区入野町4924番地の1...  \n",
       "1786658             相鉄ホテル株式会社 220-0004 神奈川県横浜市西区北幸1丁目3番23号  \n",
       "50168            株式会社ハウス工房コーワ 080-0021 北海道帯広市西十一条南17丁目4番地7  "
      ]
     },
     "execution_count": 31,
     "metadata": {},
     "output_type": "execute_result"
    }
   ],
   "source": [
    "df[\"concat_name\"] = df[\"法人名\"] + \" \" + df[\"郵便番号\"] + \" \" + df[\"本社所在地\"]\n",
    "# Remove any leading/trailing space\n",
    "df = df.applymap(str.strip)\n",
    "df.sample(5)"
   ]
  },
  {
   "attachments": {},
   "cell_type": "markdown",
   "metadata": {},
   "source": [
    "Add the fields needed for indexing later. And rename column names for easier access"
   ]
  },
  {
   "cell_type": "code",
   "execution_count": 37,
   "metadata": {},
   "outputs": [
    {
     "data": {
      "text/html": [
       "<div>\n",
       "<style scoped>\n",
       "    .dataframe tbody tr th:only-of-type {\n",
       "        vertical-align: middle;\n",
       "    }\n",
       "\n",
       "    .dataframe tbody tr th {\n",
       "        vertical-align: top;\n",
       "    }\n",
       "\n",
       "    .dataframe thead th {\n",
       "        text-align: right;\n",
       "    }\n",
       "</style>\n",
       "<table border=\"1\" class=\"dataframe\">\n",
       "  <thead>\n",
       "    <tr style=\"text-align: right;\">\n",
       "      <th></th>\n",
       "      <th>company_name</th>\n",
       "      <th>postal_code</th>\n",
       "      <th>address</th>\n",
       "      <th>concat_name</th>\n",
       "      <th>_index</th>\n",
       "    </tr>\n",
       "  </thead>\n",
       "  <tbody>\n",
       "    <tr>\n",
       "      <th>358876</th>\n",
       "      <td>TRUST株式会社</td>\n",
       "      <td>305-0821</td>\n",
       "      <td>茨城県つくば市春日3丁目13-6KASUGA32C105</td>\n",
       "      <td>TRUST株式会社 305-0821 茨城県つくば市春日3丁目13-6KASUGA32C105</td>\n",
       "      <td>alias_concat_db_20230405</td>\n",
       "    </tr>\n",
       "    <tr>\n",
       "      <th>5018978</th>\n",
       "      <td>株式会社山陰日本アルミ</td>\n",
       "      <td>683-0257</td>\n",
       "      <td>鳥取県米子市榎原146番地の61</td>\n",
       "      <td>株式会社山陰日本アルミ 683-0257 鳥取県米子市榎原146番地の61</td>\n",
       "      <td>alias_concat_db_20230405</td>\n",
       "    </tr>\n",
       "    <tr>\n",
       "      <th>3141569</th>\n",
       "      <td>伊予林商有限会社</td>\n",
       "      <td>793-0030</td>\n",
       "      <td>愛媛県西条市大町175番地2</td>\n",
       "      <td>伊予林商有限会社 793-0030 愛媛県西条市大町175番地2</td>\n",
       "      <td>alias_concat_db_20230405</td>\n",
       "    </tr>\n",
       "    <tr>\n",
       "      <th>72157</th>\n",
       "      <td>株式会社家庭サービス社</td>\n",
       "      <td>047-0037</td>\n",
       "      <td>北海道小樽市幸3丁目26番3号</td>\n",
       "      <td>株式会社家庭サービス社 047-0037 北海道小樽市幸3丁目26番3号</td>\n",
       "      <td>alias_concat_db_20230405</td>\n",
       "    </tr>\n",
       "    <tr>\n",
       "      <th>1486350</th>\n",
       "      <td>有限会社工房匠の館</td>\n",
       "      <td>164-0011</td>\n",
       "      <td>東京都中野区中央2丁目58番地10号ラックスタービル6階</td>\n",
       "      <td>有限会社工房匠の館 164-0011 東京都中野区中央2丁目58番地10号ラックスタービル6階</td>\n",
       "      <td>alias_concat_db_20230405</td>\n",
       "    </tr>\n",
       "  </tbody>\n",
       "</table>\n",
       "</div>"
      ],
      "text/plain": [
       "        company_name postal_code                       address   \n",
       "358876     TRUST株式会社    305-0821  茨城県つくば市春日3丁目13-6KASUGA32C105  \\\n",
       "5018978  株式会社山陰日本アルミ    683-0257              鳥取県米子市榎原146番地の61   \n",
       "3141569     伊予林商有限会社    793-0030                愛媛県西条市大町175番地2   \n",
       "72157    株式会社家庭サービス社    047-0037               北海道小樽市幸3丁目26番3号   \n",
       "1486350    有限会社工房匠の館    164-0011  東京都中野区中央2丁目58番地10号ラックスタービル6階   \n",
       "\n",
       "                                             concat_name   \n",
       "358876   TRUST株式会社 305-0821 茨城県つくば市春日3丁目13-6KASUGA32C105  \\\n",
       "5018978            株式会社山陰日本アルミ 683-0257 鳥取県米子市榎原146番地の61   \n",
       "3141569                 伊予林商有限会社 793-0030 愛媛県西条市大町175番地2   \n",
       "72157               株式会社家庭サービス社 047-0037 北海道小樽市幸3丁目26番3号   \n",
       "1486350  有限会社工房匠の館 164-0011 東京都中野区中央2丁目58番地10号ラックスタービル6階   \n",
       "\n",
       "                           _index  \n",
       "358876   alias_concat_db_20230405  \n",
       "5018978  alias_concat_db_20230405  \n",
       "3141569  alias_concat_db_20230405  \n",
       "72157    alias_concat_db_20230405  \n",
       "1486350  alias_concat_db_20230405  "
      ]
     },
     "execution_count": 37,
     "metadata": {},
     "output_type": "execute_result"
    }
   ],
   "source": [
    "df[\"_index\"] = index_name\n",
    "# rename\n",
    "df = df.rename(columns={\n",
    "    '法人名': 'company_name',\n",
    "    '郵便番号': 'postal_code',\n",
    "    '本社所在地': 'address',\n",
    "})\n",
    "df.sample(5)"
   ]
  },
  {
   "attachments": {},
   "cell_type": "markdown",
   "metadata": {},
   "source": [
    "Convert the dataframe into chunks of list of dict."
   ]
  },
  {
   "cell_type": "code",
   "execution_count": 38,
   "metadata": {},
   "outputs": [
    {
     "name": "stdout",
     "output_type": "stream",
     "text": [
      "104\n",
      "50000\n"
     ]
    }
   ],
   "source": [
    "# Split the DataFrame into chunks of given size\n",
    "chunk_size = 50000\n",
    "chunks = [chunk.to_dict(orient='records') for _, chunk in df.groupby(df.index // chunk_size)]\n",
    "print(len(chunks))\n",
    "print(len(chunks[0]))"
   ]
  },
  {
   "cell_type": "code",
   "execution_count": 51,
   "metadata": {},
   "outputs": [
    {
     "data": {
      "text/plain": [
       "[{'company_name': '釧路検察審査会',\n",
       "  'postal_code': '085-0824',\n",
       "  'address': '北海道釧路市柏木町4-7',\n",
       "  'concat_name': '釧路検察審査会 085-0824 北海道釧路市柏木町4-7',\n",
       "  '_index': 'alias_concat_db_20230405'},\n",
       " {'company_name': '伊達簡易裁判所',\n",
       "  'postal_code': '052-0021',\n",
       "  'address': '北海道伊達市末永町47-10',\n",
       "  'concat_name': '伊達簡易裁判所 052-0021 北海道伊達市末永町47-10',\n",
       "  '_index': 'alias_concat_db_20230405'}]"
      ]
     },
     "execution_count": 51,
     "metadata": {},
     "output_type": "execute_result"
    }
   ],
   "source": [
    "chunks[0][:2]"
   ]
  },
  {
   "attachments": {},
   "cell_type": "markdown",
   "metadata": {},
   "source": [
    "Save memory..."
   ]
  },
  {
   "cell_type": "code",
   "execution_count": 23,
   "metadata": {},
   "outputs": [],
   "source": [
    "del(df)"
   ]
  },
  {
   "attachments": {},
   "cell_type": "markdown",
   "metadata": {},
   "source": [
    "-----\n",
    "\n",
    "## Indexing\n",
    "Now the dataset is ready to be indexed.\n",
    "Let's index them into the opensearch db by bulk importing."
   ]
  },
  {
   "cell_type": "code",
   "execution_count": 39,
   "metadata": {},
   "outputs": [
    {
     "name": "stdout",
     "output_type": "stream",
     "text": [
      "Started import -----\n",
      "104 batches imported. Total elapsed time: 890.7234sec.\n",
      "Total time: 890.7236sec, average 8.5646sec / batch of 50000 rows.\n",
      "\n",
      "All finished.\n"
     ]
    }
   ],
   "source": [
    "print(\"Started import -----\")\n",
    "tic = time.perf_counter()\n",
    "im_cn = 0\n",
    "\n",
    "# Iterate over each chunk\n",
    "for each_batch in chunks:\n",
    "    # bulk import helper\n",
    "    response = helpers.bulk(client, each_batch, max_retries=3)\n",
    "    im_cn += 1\n",
    "    toc = time.perf_counter()\n",
    "    print(f\"{im_cn} batches imported. Total elapsed time: {toc - tic:0.4f}sec.\", end=\"\\r\")\n",
    "    # reset the list\n",
    "\n",
    "# total time\n",
    "toc = time.perf_counter()\n",
    "print(f\"\\nTotal time: {toc - tic:0.4f}sec, average {(toc - tic)/im_cn:0.4f}sec / batch of {chunk_size} rows.\")\n",
    "print(\"\\nAll finished.\")"
   ]
  },
  {
   "attachments": {},
   "cell_type": "markdown",
   "metadata": {},
   "source": [
    "------\n",
    "\n",
    "## Test query"
   ]
  },
  {
   "cell_type": "code",
   "execution_count": 58,
   "metadata": {},
   "outputs": [
    {
     "data": {
      "text/html": [
       "<div>\n",
       "<style scoped>\n",
       "    .dataframe tbody tr th:only-of-type {\n",
       "        vertical-align: middle;\n",
       "    }\n",
       "\n",
       "    .dataframe tbody tr th {\n",
       "        vertical-align: top;\n",
       "    }\n",
       "\n",
       "    .dataframe thead th {\n",
       "        text-align: right;\n",
       "    }\n",
       "</style>\n",
       "<table border=\"1\" class=\"dataframe\">\n",
       "  <thead>\n",
       "    <tr style=\"text-align: right;\">\n",
       "      <th></th>\n",
       "      <th>company_name</th>\n",
       "      <th>postal_code</th>\n",
       "      <th>address</th>\n",
       "      <th>concat_name</th>\n",
       "      <th>_index</th>\n",
       "    </tr>\n",
       "  </thead>\n",
       "  <tbody>\n",
       "    <tr>\n",
       "      <th>1242115</th>\n",
       "      <td>有限会社エム・コーポレーション</td>\n",
       "      <td>124-0023</td>\n",
       "      <td>東京都葛飾区東新小岩2丁目7番6号恭永マンション105号室</td>\n",
       "      <td>有限会社エム・コーポレーション 124-0023 東京都葛飾区東新小岩2丁目7番6号恭永マン...</td>\n",
       "      <td>alias_concat_db_20230405</td>\n",
       "    </tr>\n",
       "    <tr>\n",
       "      <th>550531</th>\n",
       "      <td>神明神社</td>\n",
       "      <td>337-0015</td>\n",
       "      <td>埼玉県さいたま市見沼区大字蓮沼298番地</td>\n",
       "      <td>神明神社 337-0015 埼玉県さいたま市見沼区大字蓮沼298番地</td>\n",
       "      <td>alias_concat_db_20230405</td>\n",
       "    </tr>\n",
       "    <tr>\n",
       "      <th>3096460</th>\n",
       "      <td>学校法人村崎学園</td>\n",
       "      <td>770-0832</td>\n",
       "      <td>徳島県徳島市寺島本町東1丁目8番地</td>\n",
       "      <td>学校法人村崎学園 770-0832 徳島県徳島市寺島本町東1丁目8番地</td>\n",
       "      <td>alias_concat_db_20230405</td>\n",
       "    </tr>\n",
       "  </tbody>\n",
       "</table>\n",
       "</div>"
      ],
      "text/plain": [
       "            company_name postal_code                        address   \n",
       "1242115  有限会社エム・コーポレーション    124-0023  東京都葛飾区東新小岩2丁目7番6号恭永マンション105号室  \\\n",
       "550531              神明神社    337-0015           埼玉県さいたま市見沼区大字蓮沼298番地   \n",
       "3096460         学校法人村崎学園    770-0832              徳島県徳島市寺島本町東1丁目8番地   \n",
       "\n",
       "                                               concat_name   \n",
       "1242115  有限会社エム・コーポレーション 124-0023 東京都葛飾区東新小岩2丁目7番6号恭永マン...  \\\n",
       "550531                  神明神社 337-0015 埼玉県さいたま市見沼区大字蓮沼298番地   \n",
       "3096460                学校法人村崎学園 770-0832 徳島県徳島市寺島本町東1丁目8番地   \n",
       "\n",
       "                           _index  \n",
       "1242115  alias_concat_db_20230405  \n",
       "550531   alias_concat_db_20230405  \n",
       "3096460  alias_concat_db_20230405  "
      ]
     },
     "execution_count": 58,
     "metadata": {},
     "output_type": "execute_result"
    }
   ],
   "source": [
    "df.sample(3)"
   ]
  },
  {
   "attachments": {},
   "cell_type": "markdown",
   "metadata": {},
   "source": [
    "Test connection by a fuzzy Search for the document."
   ]
  },
  {
   "cell_type": "code",
   "execution_count": 62,
   "metadata": {},
   "outputs": [
    {
     "name": "stdout",
     "output_type": "stream",
     "text": [
      "\n",
      "Search results:\n",
      "{'_shards': {'failed': 0, 'skipped': 0, 'successful': 1, 'total': 1},\n",
      " 'hits': {'hits': [{'_id': 'RfQyUIcBLrfrvxLThmru',\n",
      "                    '_index': 'full_gov_db_1',\n",
      "                    '_score': 70.80829,\n",
      "                    '_source': {'address': '東京都葛飾区東新小岩2丁目7番6号恭永マンション105号室',\n",
      "                                'company_name': '有限会社エム・コーポレーション',\n",
      "                                'concat_name': '有限会社エム・コーポレーション 124-0023 '\n",
      "                                               '東京都葛飾区東新小岩2丁目7番6号恭永マンション105号室',\n",
      "                                'postal_code': '124-0023'}},\n",
      "                   {'_id': 'gO8xUIcBLrfrvxLThyy3',\n",
      "                    '_index': 'full_gov_db_1',\n",
      "                    '_score': 51.61158,\n",
      "                    '_source': {'address': '東京都葛飾区東新小岩6丁目30番6号',\n",
      "                                'company_name': '恭立スクリーン有限会社',\n",
      "                                'concat_name': '恭立スクリーン有限会社 124-0023 '\n",
      "                                               '東京都葛飾区東新小岩6丁目30番6号',\n",
      "                                'postal_code': '124-0023'}},\n",
      "                   {'_id': 'YfUyUIcBLrfrvxLTusEj',\n",
      "                    '_index': 'full_gov_db_1',\n",
      "                    '_score': 47.411587,\n",
      "                    '_source': {'address': '東京都葛飾区東新小岩3丁目11番6号大雄マンション116室',\n",
      "                                'company_name': '有限会社青島商事',\n",
      "                                'concat_name': '有限会社青島商事 124-0023 '\n",
      "                                               '東京都葛飾区東新小岩3丁目11番6号大雄マンション116室',\n",
      "                                'postal_code': '124-0023'}},\n",
      "                   {'_id': 'FPAxUIcBLrfrvxLT1XXZ',\n",
      "                    '_index': 'full_gov_db_1',\n",
      "                    '_score': 47.18254,\n",
      "                    '_source': {'address': '東京都葛飾区東新小岩4丁目7番8号',\n",
      "                                'company_name': 'ユー・ティー・エム株式会社',\n",
      "                                'concat_name': 'ユー・ティー・エム株式会社 124-0023 '\n",
      "                                               '東京都葛飾区東新小岩4丁目7番8号',\n",
      "                                'postal_code': '124-0023'}},\n",
      "                   {'_id': 'Fis7UIcBLrfrvxLT6j5D',\n",
      "                    '_index': 'full_gov_db_1',\n",
      "                    '_score': 47.023605,\n",
      "                    '_source': {'address': '東京都葛飾区東新小岩3丁目15番1号小松川マンション102室',\n",
      "                                'company_name': '横尚合同会社',\n",
      "                                'concat_name': '横尚合同会社 124-0023 '\n",
      "                                               '東京都葛飾区東新小岩3丁目15番1号小松川マンション102室',\n",
      "                                'postal_code': '124-0023'}},\n",
      "                   {'_id': 'OvkzUIcBLrfrvxLTaqxn',\n",
      "                    '_index': 'full_gov_db_1',\n",
      "                    '_score': 46.721764,\n",
      "                    '_source': {'address': '東京都葛飾区東新小岩2丁目7番6号',\n",
      "                                'company_name': '有限会社トヨダアート',\n",
      "                                'concat_name': '有限会社トヨダアート 124-0023 '\n",
      "                                               '東京都葛飾区東新小岩2丁目7番6号',\n",
      "                                'postal_code': '124-0023'}},\n",
      "                   {'_id': 'qvUyUIcBLrfrvxLTubza',\n",
      "                    '_index': 'full_gov_db_1',\n",
      "                    '_score': 46.462376,\n",
      "                    '_source': {'address': '東京都葛飾区東新小岩7丁目26番15号',\n",
      "                                'company_name': '有限会社ティー・エム商事',\n",
      "                                'concat_name': '有限会社ティー・エム商事 124-0023 '\n",
      "                                               '東京都葛飾区東新小岩7丁目26番15号',\n",
      "                                'postal_code': '124-0023'}},\n",
      "                   {'_id': '8PQyUIcBLrfrvxLThmak',\n",
      "                    '_index': 'full_gov_db_1',\n",
      "                    '_score': 46.22112,\n",
      "                    '_source': {'address': '東京都葛飾区東新小岩7丁目6番7号',\n",
      "                                'company_name': '株式会社ビーメタルワークス',\n",
      "                                'concat_name': '株式会社ビーメタルワークス 124-0023 '\n",
      "                                               '東京都葛飾区東新小岩7丁目6番7号',\n",
      "                                'postal_code': '124-0023'}},\n",
      "                   {'_id': 'YBg4UIcBLrfrvxLTbLdA',\n",
      "                    '_index': 'full_gov_db_1',\n",
      "                    '_score': 46.164062,\n",
      "                    '_source': {'address': '東京都葛飾区東新小岩6丁目2番4-303号室',\n",
      "                                'company_name': '株式会社FUJI PALACE',\n",
      "                                'concat_name': '株式会社FUJI PALACE 124-0023 '\n",
      "                                               '東京都葛飾区東新小岩6丁目2番4-303号室',\n",
      "                                'postal_code': '124-0023'}},\n",
      "                   {'_id': 'yCo7UIcBLrfrvxLTujKF',\n",
      "                    '_index': 'full_gov_db_1',\n",
      "                    '_score': 46.15803,\n",
      "                    '_source': {'address': '東京都葛飾区東新小岩7丁目6番6号',\n",
      "                                'company_name': '株式会社Wonder',\n",
      "                                'concat_name': '株式会社Wonder 124-0023 '\n",
      "                                               '東京都葛飾区東新小岩7丁目6番6号',\n",
      "                                'postal_code': '124-0023'}}],\n",
      "          'max_score': 70.80829,\n",
      "          'total': {'relation': 'gte', 'value': 10000}},\n",
      " 'timed_out': False,\n",
      " 'took': 147}\n"
     ]
    }
   ],
   "source": [
    "\n",
    "\n",
    "query = {\n",
    "  \"query\": {\n",
    "    \"match\": {\n",
    "      # \"company_name\": \"簡易裁判所\"\n",
    "      # \"concat_name\": \"簡易裁判所\"\n",
    "      \"concat_name\": \"会社エム コーポレション 124-0023 東京都葛飾区東新小岩2丁目7番6号恭永マンション1O5号室\"\n",
    "    }\n",
    "  }\n",
    "}\n",
    "\n",
    "response = client.search(\n",
    "    body = query,\n",
    "    index = index_name\n",
    ")\n",
    "print('\\nSearch results:')\n",
    "\n",
    "\n",
    "pp(response)"
   ]
  },
  {
   "attachments": {},
   "cell_type": "markdown",
   "metadata": {},
   "source": [
    "A more complex search:\n",
    "- Exact match the postal code\n",
    "- The result's postal_code should not be empty\n",
    "- Then do a fuzzy search on concat name\n",
    "\n",
    "And limit the output size to a given amount"
   ]
  },
  {
   "cell_type": "code",
   "execution_count": null,
   "metadata": {},
   "outputs": [],
   "source": [
    "\n",
    "output_size = 3\n",
    "postal_code = \"108-0073\"\n",
    "concat_name = \"株式会社コドモン 108-0073 東京都港区三田3-13\"\n",
    "\n",
    "query = {\n",
    "    \"size\": output_size,\n",
    "    \"query\": {\n",
    "        \"bool\": {\n",
    "        \"must\": [\n",
    "            {\"match\": {\"concat_name\": concat_name}},\n",
    "            {\"match\": {\n",
    "                \"postal_code\": {\n",
    "                    \"query\": postal_code,\n",
    "                    \"operator\": \"and\"\n",
    "                }\n",
    "            }}\n",
    "        ],\n",
    "        \"must_not\": [\n",
    "            {\n",
    "                \"match\": {\n",
    "                    \"postal_code\": {\n",
    "                        \"query\": \"\",\n",
    "                        \"operator\": \"and\"\n",
    "                    }\n",
    "                }\n",
    "            }\n",
    "        ]\n",
    "        }\n",
    "    }\n",
    "}\n",
    "\n",
    "\n",
    "response = client.search(\n",
    "    body = query,\n",
    "    index = index_name\n",
    ")\n",
    "print('\\nSearch results:')\n",
    "\n",
    "\n",
    "pp(response)"
   ]
  }
 ],
 "metadata": {
  "kernelspec": {
   "display_name": "Python 3.9.7",
   "language": "python",
   "name": "python3"
  },
  "language_info": {
   "codemirror_mode": {
    "name": "ipython",
    "version": 3
   },
   "file_extension": ".py",
   "mimetype": "text/x-python",
   "name": "python",
   "nbconvert_exporter": "python",
   "pygments_lexer": "ipython3",
   "version": "3.9.13"
  },
  "orig_nbformat": 4,
  "vscode": {
   "interpreter": {
    "hash": "393116825b527c52ca755ccdffb668b0a87cb984720fe262fa43097a59c8b332"
   }
  }
 },
 "nbformat": 4,
 "nbformat_minor": 2
}
